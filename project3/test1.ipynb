{
 "cells": [
  {
   "cell_type": "code",
   "id": "initial_id",
   "metadata": {
    "collapsed": true,
    "ExecuteTime": {
     "end_time": "2025-08-15T01:36:39.872356Z",
     "start_time": "2025-08-15T01:36:25.938171Z"
    }
   },
   "source": [
    "import yfinance as yf\n",
    "from twelvedata import TDClient\n",
    "import numpy as np\n",
    "import pandas as pd\n",
    "from scipy import stats\n",
    "import matplotlib.pyplot as plt\n",
    "\n",
    "# 设置Twelve Data API密钥（从twelvedata.com获取，免费基本层）\n",
    "TWELVE_DATA_API_KEY = '321a723f61624e6eb401655e5bce50fb'\n",
    "td = TDClient(apikey=TWELVE_DATA_API_KEY)"
   ],
   "outputs": [],
   "execution_count": 1
  },
  {
   "metadata": {
    "ExecuteTime": {
     "end_time": "2025-08-15T01:37:20.743087Z",
     "start_time": "2025-08-15T01:37:16.364173Z"
    }
   },
   "cell_type": "code",
   "source": [
    "# 美国：原油期货（近月和远月通过连续合约近似；在实践中，使用特定到期日）\n",
    "us_ticker_near = 'CL=F'  # 原油连续\n",
    "us_data = yf.download(us_ticker_near, start='2020-01-01', end='2025-08-02')\n",
    "# 模拟价差：用于演示，使用移位收盘作为'远月'（实际：获取特定合约）\n",
    "us_data['Near'] = us_data['Close']\n",
    "us_data['Far'] = us_data['Close'].shift(-21)  # 约1个月移位（21天）\n",
    "us_data['Spread'] = us_data['Near'] - us_data['Far']\n",
    "us_data.dropna(inplace=True)\n",
    "print(us_data.head())"
   ],
   "id": "d035baddb26ecb44",
   "outputs": [
    {
     "name": "stderr",
     "output_type": "stream",
     "text": [
      "C:\\Users\\86189\\AppData\\Local\\Temp\\ipykernel_37168\\3459325473.py:3: FutureWarning: YF.download() has changed argument auto_adjust default to True\n",
      "  us_data = yf.download(us_ticker_near, start='2020-01-01', end='2025-08-02')\n",
      "[*********************100%***********************]  1 of 1 completed"
     ]
    },
    {
     "name": "stdout",
     "output_type": "stream",
     "text": [
      "Price           Close       High        Low       Open   Volume       Near  \\\n",
      "Ticker           CL=F       CL=F       CL=F       CL=F     CL=F              \n",
      "Date                                                                         \n",
      "2020-01-02  61.180000  61.599998  60.639999  61.599998   486873  61.180000   \n",
      "2020-01-03  63.049999  64.089996  61.130001  61.180000   885861  63.049999   \n",
      "2020-01-06  63.270000  64.720001  62.639999  63.709999   724236  63.270000   \n",
      "2020-01-07  62.700001  63.150002  62.110001  62.910000   582649  62.700001   \n",
      "2020-01-08  59.610001  65.650002  59.150002  62.840000  1205710  59.610001   \n",
      "\n",
      "Price             Far     Spread  \n",
      "Ticker                            \n",
      "Date                              \n",
      "2020-01-02  50.110001  11.070000  \n",
      "2020-01-03  49.610001  13.439999  \n",
      "2020-01-06  50.750000  12.520000  \n",
      "2020-01-07  50.950001  11.750000  \n",
      "2020-01-08  50.320000   9.290001  \n"
     ]
    },
    {
     "name": "stderr",
     "output_type": "stream",
     "text": [
      "\n"
     ]
    }
   ],
   "execution_count": 2
  },
  {
   "metadata": {
    "ExecuteTime": {
     "end_time": "2025-08-15T01:45:57.619810Z",
     "start_time": "2025-08-15T01:45:57.253076Z"
    }
   },
   "cell_type": "code",
   "source": [
    "# 中国：大连交易所铁矿石期货通过Twelve Data（使用连续合约符号\"I:DCE\"；如果报错，请检查API文档或替换为支持的符号如\"A:DCE\" for soybean）\n",
    "china_ts = td.time_series(symbol=\"I:DCE\", interval=\"1day\", start_date=\"2020-01-01\", end_date=\"2025-08-02\").as_pandas()  # 连续铁矿石\n",
    "# 模拟价差：使用移位'close'作为'远月'\n",
    "china_data = pd.DataFrame()\n",
    "china_data['Near'] = china_ts['close']\n",
    "china_data['Far'] = china_ts['close'].shift(-21)  # 约1个月移位\n",
    "china_data['Spread'] = china_data['Near'] - china_data['Far']\n",
    "china_data.dropna(inplace=True)\n",
    "print(china_data.head())"
   ],
   "id": "ec28d993a3257c0e",
   "outputs": [
    {
     "ename": "TwelveDataError",
     "evalue": "**symbol** or **figi** parameter is missing or invalid. Please provide a valid symbol according to API documentation: https://twelvedata.com/docs#reference-data",
     "output_type": "error",
     "traceback": [
      "\u001B[31m---------------------------------------------------------------------------\u001B[39m",
      "\u001B[31mTwelveDataError\u001B[39m                           Traceback (most recent call last)",
      "\u001B[36mCell\u001B[39m\u001B[36m \u001B[39m\u001B[32mIn[5]\u001B[39m\u001B[32m, line 2\u001B[39m\n\u001B[32m      1\u001B[39m \u001B[38;5;66;03m# 中国：大连交易所铁矿石期货通过Twelve Data（使用连续合约符号\"I:DCE\"；如果报错，请检查API文档或替换为支持的符号如\"A:DCE\" for soybean）\u001B[39;00m\n\u001B[32m----> \u001B[39m\u001B[32m2\u001B[39m china_ts = \u001B[43mtd\u001B[49m\u001B[43m.\u001B[49m\u001B[43mtime_series\u001B[49m\u001B[43m(\u001B[49m\u001B[43msymbol\u001B[49m\u001B[43m=\u001B[49m\u001B[33;43m\"\u001B[39;49m\u001B[33;43mI:DCE\u001B[39;49m\u001B[33;43m\"\u001B[39;49m\u001B[43m,\u001B[49m\u001B[43m \u001B[49m\u001B[43minterval\u001B[49m\u001B[43m=\u001B[49m\u001B[33;43m\"\u001B[39;49m\u001B[33;43m1day\u001B[39;49m\u001B[33;43m\"\u001B[39;49m\u001B[43m,\u001B[49m\u001B[43m \u001B[49m\u001B[43mstart_date\u001B[49m\u001B[43m=\u001B[49m\u001B[33;43m\"\u001B[39;49m\u001B[33;43m2020-01-01\u001B[39;49m\u001B[33;43m\"\u001B[39;49m\u001B[43m,\u001B[49m\u001B[43m \u001B[49m\u001B[43mend_date\u001B[49m\u001B[43m=\u001B[49m\u001B[33;43m\"\u001B[39;49m\u001B[33;43m2025-08-02\u001B[39;49m\u001B[33;43m\"\u001B[39;49m\u001B[43m)\u001B[49m\u001B[43m.\u001B[49m\u001B[43mas_pandas\u001B[49m\u001B[43m(\u001B[49m\u001B[43m)\u001B[49m  \u001B[38;5;66;03m# 连续铁矿石\u001B[39;00m\n\u001B[32m      3\u001B[39m \u001B[38;5;66;03m# 模拟价差：使用移位'close'作为'远月'\u001B[39;00m\n\u001B[32m      4\u001B[39m china_data = pd.DataFrame()\n",
      "\u001B[36mFile \u001B[39m\u001B[32mD:\\anaconda3\\envs\\py311-tradingagents-cn\\Lib\\site-packages\\twelvedata\\time_series.py:114\u001B[39m, in \u001B[36mTimeSeries.as_pandas\u001B[39m\u001B[34m(self, **kwargs)\u001B[39m\n\u001B[32m    111\u001B[39m postfixes = \u001B[38;5;28mself\u001B[39m._generate_postfixes()\n\u001B[32m    113\u001B[39m \u001B[38;5;28;01mif\u001B[39;00m \u001B[38;5;28mself\u001B[39m.price_endpoint_enabled:\n\u001B[32m--> \u001B[39m\u001B[32m114\u001B[39m     df = \u001B[38;5;28;43mself\u001B[39;49m\u001B[43m.\u001B[49m\u001B[43mprice_endpoint\u001B[49m\u001B[43m.\u001B[49m\u001B[43mas_pandas\u001B[49m\u001B[43m(\u001B[49m\u001B[43m)\u001B[49m\n\u001B[32m    115\u001B[39m \u001B[38;5;28;01melse\u001B[39;00m:\n\u001B[32m    116\u001B[39m     df = \u001B[38;5;28;01mNone\u001B[39;00m\n",
      "\u001B[36mFile \u001B[39m\u001B[32mD:\\anaconda3\\envs\\py311-tradingagents-cn\\Lib\\site-packages\\twelvedata\\mixins.py:47\u001B[39m, in \u001B[36mAsPandasMixin.as_pandas\u001B[39m\u001B[34m(self, **kwargs)\u001B[39m\n\u001B[32m     43\u001B[39m \u001B[38;5;28;01mimport\u001B[39;00m\u001B[38;5;250m \u001B[39m\u001B[34;01mpandas\u001B[39;00m\u001B[38;5;250m \u001B[39m\u001B[38;5;28;01mas\u001B[39;00m\u001B[38;5;250m \u001B[39m\u001B[34;01mpd\u001B[39;00m\n\u001B[32m     45\u001B[39m \u001B[38;5;28;01massert\u001B[39;00m \u001B[38;5;28mhasattr\u001B[39m(\u001B[38;5;28mself\u001B[39m, \u001B[33m\"\u001B[39m\u001B[33mas_json\u001B[39m\u001B[33m\"\u001B[39m)\n\u001B[32m---> \u001B[39m\u001B[32m47\u001B[39m data = \u001B[38;5;28;43mself\u001B[39;49m\u001B[43m.\u001B[49m\u001B[43mas_json\u001B[49m\u001B[43m(\u001B[49m\u001B[43m)\u001B[49m\n\u001B[32m     48\u001B[39m \u001B[38;5;28;01mif\u001B[39;00m \u001B[38;5;28mhasattr\u001B[39m(\u001B[38;5;28mself\u001B[39m, \u001B[33m\"\u001B[39m\u001B[33mis_batch\u001B[39m\u001B[33m\"\u001B[39m) \u001B[38;5;129;01mand\u001B[39;00m \u001B[38;5;28mself\u001B[39m.is_batch:\n\u001B[32m     49\u001B[39m     df = convert_collection_to_pandas_multi_index(data)\n",
      "\u001B[36mFile \u001B[39m\u001B[32mD:\\anaconda3\\envs\\py311-tradingagents-cn\\Lib\\site-packages\\twelvedata\\mixins.py:12\u001B[39m, in \u001B[36mAsJsonMixin.as_json\u001B[39m\u001B[34m(self)\u001B[39m\n\u001B[32m     11\u001B[39m \u001B[38;5;28;01mdef\u001B[39;00m\u001B[38;5;250m \u001B[39m\u001B[34mas_json\u001B[39m(\u001B[38;5;28mself\u001B[39m):\n\u001B[32m---> \u001B[39m\u001B[32m12\u001B[39m     resp = \u001B[38;5;28;43mself\u001B[39;49m\u001B[43m.\u001B[49m\u001B[43mexecute\u001B[49m\u001B[43m(\u001B[49m\u001B[38;5;28;43mformat\u001B[39;49m\u001B[43m=\u001B[49m\u001B[33;43m\"\u001B[39;49m\u001B[33;43mJSON\u001B[39;49m\u001B[33;43m\"\u001B[39;49m\u001B[43m)\u001B[49m\n\u001B[32m     13\u001B[39m     json = resp.json()\n\u001B[32m     14\u001B[39m     \u001B[38;5;28;01mif\u001B[39;00m \u001B[38;5;28mhasattr\u001B[39m(\u001B[38;5;28mself\u001B[39m, \u001B[33m'\u001B[39m\u001B[33mis_batch\u001B[39m\u001B[33m'\u001B[39m) \u001B[38;5;129;01mand\u001B[39;00m \u001B[38;5;28mself\u001B[39m.is_batch:\n",
      "\u001B[36mFile \u001B[39m\u001B[32mD:\\anaconda3\\envs\\py311-tradingagents-cn\\Lib\\site-packages\\twelvedata\\endpoints.py:319\u001B[39m, in \u001B[36mTimeSeriesEndpoint.execute\u001B[39m\u001B[34m(self, format, debug)\u001B[39m\n\u001B[32m    317\u001B[39m \u001B[38;5;28;01mif\u001B[39;00m debug:\n\u001B[32m    318\u001B[39m     \u001B[38;5;28;01mreturn\u001B[39;00m build_url(\u001B[38;5;28mself\u001B[39m.ctx.base_url, endpoint, params)\n\u001B[32m--> \u001B[39m\u001B[32m319\u001B[39m \u001B[38;5;28;01mreturn\u001B[39;00m \u001B[38;5;28;43mself\u001B[39;49m\u001B[43m.\u001B[49m\u001B[43mctx\u001B[49m\u001B[43m.\u001B[49m\u001B[43mhttp_client\u001B[49m\u001B[43m.\u001B[49m\u001B[43mget\u001B[49m\u001B[43m(\u001B[49m\u001B[43mendpoint\u001B[49m\u001B[43m,\u001B[49m\u001B[43m \u001B[49m\u001B[43mparams\u001B[49m\u001B[43m=\u001B[49m\u001B[43mparams\u001B[49m\u001B[43m)\u001B[49m\n",
      "\u001B[36mFile \u001B[39m\u001B[32mD:\\anaconda3\\envs\\py311-tradingagents-cn\\Lib\\site-packages\\twelvedata\\http_client.py:51\u001B[39m, in \u001B[36mDefaultHttpClient.get\u001B[39m\u001B[34m(self, relative_url, *args, **kwargs)\u001B[39m\n\u001B[32m     48\u001B[39m \u001B[38;5;28;01mexcept\u001B[39;00m \u001B[38;5;167;01mValueError\u001B[39;00m:\n\u001B[32m     49\u001B[39m     message = resp.text\n\u001B[32m---> \u001B[39m\u001B[32m51\u001B[39m \u001B[38;5;28;43mself\u001B[39;49m\u001B[43m.\u001B[49m\u001B[43m_raise_error\u001B[49m\u001B[43m(\u001B[49m\u001B[43merror_code\u001B[49m\u001B[43m,\u001B[49m\u001B[43m \u001B[49m\u001B[43mmessage\u001B[49m\u001B[43m)\u001B[49m\n",
      "\u001B[36mFile \u001B[39m\u001B[32mD:\\anaconda3\\envs\\py311-tradingagents-cn\\Lib\\site-packages\\twelvedata\\http_client.py:64\u001B[39m, in \u001B[36mDefaultHttpClient._raise_error\u001B[39m\u001B[34m(error_code, message)\u001B[39m\n\u001B[32m     61\u001B[39m \u001B[38;5;28;01mif\u001B[39;00m error_code >= \u001B[32m500\u001B[39m:\n\u001B[32m     62\u001B[39m     \u001B[38;5;28;01mraise\u001B[39;00m InternalServerError(message)\n\u001B[32m---> \u001B[39m\u001B[32m64\u001B[39m \u001B[38;5;28;01mraise\u001B[39;00m TwelveDataError(message)\n",
      "\u001B[31mTwelveDataError\u001B[39m: **symbol** or **figi** parameter is missing or invalid. Please provide a valid symbol according to API documentation: https://twelvedata.com/docs#reference-data"
     ]
    }
   ],
   "execution_count": 5
  },
  {
   "metadata": {
    "ExecuteTime": {
     "end_time": "2025-08-11T11:18:41.139419Z",
     "start_time": "2025-08-11T11:18:40.169096Z"
    }
   },
   "cell_type": "code",
   "source": [
    "# 中国：大连交易所铁矿石期货通过Quandl\n",
    "china_near = ndl.get('DCE/I202509')  # 示例：2025年9月合约；调整代码\n",
    "china_far = ndl.get('DCE/I202512')   # 12月\n",
    "china_data = pd.concat([china_near['Settle'], china_far['Settle']], axis=1)\n",
    "china_data.columns = ['Near', 'Far']\n",
    "china_data['Spread'] = china_data['Near'] - china_data['Far']\n",
    "china_data.dropna(inplace=True)\n",
    "print(china_data.head())"
   ],
   "id": "558d87b5837f838f",
   "outputs": [
    {
     "ename": "DataLinkError",
     "evalue": "(Status 403) Something went wrong. Please try again. If you continue to have problems, please contact us at connect@data.nasdaq.com.",
     "output_type": "error",
     "traceback": [
      "\u001B[31m---------------------------------------------------------------------------\u001B[39m",
      "\u001B[31mJSONDecodeError\u001B[39m                           Traceback (most recent call last)",
      "\u001B[36mFile \u001B[39m\u001B[32mD:\\anaconda3\\envs\\py311-tradingagents-cn\\Lib\\site-packages\\requests\\models.py:976\u001B[39m, in \u001B[36mResponse.json\u001B[39m\u001B[34m(self, **kwargs)\u001B[39m\n\u001B[32m    975\u001B[39m \u001B[38;5;28;01mtry\u001B[39;00m:\n\u001B[32m--> \u001B[39m\u001B[32m976\u001B[39m     \u001B[38;5;28;01mreturn\u001B[39;00m \u001B[43mcomplexjson\u001B[49m\u001B[43m.\u001B[49m\u001B[43mloads\u001B[49m\u001B[43m(\u001B[49m\u001B[38;5;28;43mself\u001B[39;49m\u001B[43m.\u001B[49m\u001B[43mtext\u001B[49m\u001B[43m,\u001B[49m\u001B[43m \u001B[49m\u001B[43m*\u001B[49m\u001B[43m*\u001B[49m\u001B[43mkwargs\u001B[49m\u001B[43m)\u001B[49m\n\u001B[32m    977\u001B[39m \u001B[38;5;28;01mexcept\u001B[39;00m JSONDecodeError \u001B[38;5;28;01mas\u001B[39;00m e:\n\u001B[32m    978\u001B[39m     \u001B[38;5;66;03m# Catch JSON-related errors and raise as requests.JSONDecodeError\u001B[39;00m\n\u001B[32m    979\u001B[39m     \u001B[38;5;66;03m# This aliases json.JSONDecodeError and simplejson.JSONDecodeError\u001B[39;00m\n",
      "\u001B[36mFile \u001B[39m\u001B[32mD:\\anaconda3\\envs\\py311-tradingagents-cn\\Lib\\site-packages\\simplejson\\__init__.py:514\u001B[39m, in \u001B[36mloads\u001B[39m\u001B[34m(s, encoding, cls, object_hook, parse_float, parse_int, parse_constant, object_pairs_hook, use_decimal, allow_nan, **kw)\u001B[39m\n\u001B[32m    510\u001B[39m \u001B[38;5;28;01mif\u001B[39;00m (\u001B[38;5;28mcls\u001B[39m \u001B[38;5;129;01mis\u001B[39;00m \u001B[38;5;28;01mNone\u001B[39;00m \u001B[38;5;129;01mand\u001B[39;00m encoding \u001B[38;5;129;01mis\u001B[39;00m \u001B[38;5;28;01mNone\u001B[39;00m \u001B[38;5;129;01mand\u001B[39;00m object_hook \u001B[38;5;129;01mis\u001B[39;00m \u001B[38;5;28;01mNone\u001B[39;00m \u001B[38;5;129;01mand\u001B[39;00m\n\u001B[32m    511\u001B[39m         parse_int \u001B[38;5;129;01mis\u001B[39;00m \u001B[38;5;28;01mNone\u001B[39;00m \u001B[38;5;129;01mand\u001B[39;00m parse_float \u001B[38;5;129;01mis\u001B[39;00m \u001B[38;5;28;01mNone\u001B[39;00m \u001B[38;5;129;01mand\u001B[39;00m\n\u001B[32m    512\u001B[39m         parse_constant \u001B[38;5;129;01mis\u001B[39;00m \u001B[38;5;28;01mNone\u001B[39;00m \u001B[38;5;129;01mand\u001B[39;00m object_pairs_hook \u001B[38;5;129;01mis\u001B[39;00m \u001B[38;5;28;01mNone\u001B[39;00m\n\u001B[32m    513\u001B[39m         \u001B[38;5;129;01mand\u001B[39;00m \u001B[38;5;129;01mnot\u001B[39;00m use_decimal \u001B[38;5;129;01mand\u001B[39;00m \u001B[38;5;129;01mnot\u001B[39;00m allow_nan \u001B[38;5;129;01mand\u001B[39;00m \u001B[38;5;129;01mnot\u001B[39;00m kw):\n\u001B[32m--> \u001B[39m\u001B[32m514\u001B[39m     \u001B[38;5;28;01mreturn\u001B[39;00m \u001B[43m_default_decoder\u001B[49m\u001B[43m.\u001B[49m\u001B[43mdecode\u001B[49m\u001B[43m(\u001B[49m\u001B[43ms\u001B[49m\u001B[43m)\u001B[49m\n\u001B[32m    515\u001B[39m \u001B[38;5;28;01mif\u001B[39;00m \u001B[38;5;28mcls\u001B[39m \u001B[38;5;129;01mis\u001B[39;00m \u001B[38;5;28;01mNone\u001B[39;00m:\n",
      "\u001B[36mFile \u001B[39m\u001B[32mD:\\anaconda3\\envs\\py311-tradingagents-cn\\Lib\\site-packages\\simplejson\\decoder.py:386\u001B[39m, in \u001B[36mJSONDecoder.decode\u001B[39m\u001B[34m(self, s, _w, _PY3)\u001B[39m\n\u001B[32m    385\u001B[39m     s = \u001B[38;5;28mstr\u001B[39m(s, \u001B[38;5;28mself\u001B[39m.encoding)\n\u001B[32m--> \u001B[39m\u001B[32m386\u001B[39m obj, end = \u001B[38;5;28;43mself\u001B[39;49m\u001B[43m.\u001B[49m\u001B[43mraw_decode\u001B[49m\u001B[43m(\u001B[49m\u001B[43ms\u001B[49m\u001B[43m)\u001B[49m\n\u001B[32m    387\u001B[39m end = _w(s, end).end()\n",
      "\u001B[36mFile \u001B[39m\u001B[32mD:\\anaconda3\\envs\\py311-tradingagents-cn\\Lib\\site-packages\\simplejson\\decoder.py:416\u001B[39m, in \u001B[36mJSONDecoder.raw_decode\u001B[39m\u001B[34m(self, s, idx, _w, _PY3)\u001B[39m\n\u001B[32m    415\u001B[39m         idx += \u001B[32m3\u001B[39m\n\u001B[32m--> \u001B[39m\u001B[32m416\u001B[39m \u001B[38;5;28;01mreturn\u001B[39;00m \u001B[38;5;28;43mself\u001B[39;49m\u001B[43m.\u001B[49m\u001B[43mscan_once\u001B[49m\u001B[43m(\u001B[49m\u001B[43ms\u001B[49m\u001B[43m,\u001B[49m\u001B[43m \u001B[49m\u001B[43midx\u001B[49m\u001B[43m=\u001B[49m\u001B[43m_w\u001B[49m\u001B[43m(\u001B[49m\u001B[43ms\u001B[49m\u001B[43m,\u001B[49m\u001B[43m \u001B[49m\u001B[43midx\u001B[49m\u001B[43m)\u001B[49m\u001B[43m.\u001B[49m\u001B[43mend\u001B[49m\u001B[43m(\u001B[49m\u001B[43m)\u001B[49m\u001B[43m)\u001B[49m\n",
      "\u001B[31mJSONDecodeError\u001B[39m: Expecting value: line 1 column 1 (char 0)",
      "\nDuring handling of the above exception, another exception occurred:\n",
      "\u001B[31mJSONDecodeError\u001B[39m                           Traceback (most recent call last)",
      "\u001B[36mFile \u001B[39m\u001B[32mD:\\anaconda3\\envs\\py311-tradingagents-cn\\Lib\\site-packages\\nasdaqdatalink\\connection.py:90\u001B[39m, in \u001B[36mConnection.parse\u001B[39m\u001B[34m(cls, response)\u001B[39m\n\u001B[32m     89\u001B[39m \u001B[38;5;28;01mtry\u001B[39;00m:\n\u001B[32m---> \u001B[39m\u001B[32m90\u001B[39m     \u001B[38;5;28;01mreturn\u001B[39;00m \u001B[43mresponse\u001B[49m\u001B[43m.\u001B[49m\u001B[43mjson\u001B[49m\u001B[43m(\u001B[49m\u001B[43m)\u001B[49m\n\u001B[32m     91\u001B[39m \u001B[38;5;28;01mexcept\u001B[39;00m \u001B[38;5;167;01mValueError\u001B[39;00m:\n",
      "\u001B[36mFile \u001B[39m\u001B[32mD:\\anaconda3\\envs\\py311-tradingagents-cn\\Lib\\site-packages\\requests\\models.py:980\u001B[39m, in \u001B[36mResponse.json\u001B[39m\u001B[34m(self, **kwargs)\u001B[39m\n\u001B[32m    977\u001B[39m \u001B[38;5;28;01mexcept\u001B[39;00m JSONDecodeError \u001B[38;5;28;01mas\u001B[39;00m e:\n\u001B[32m    978\u001B[39m     \u001B[38;5;66;03m# Catch JSON-related errors and raise as requests.JSONDecodeError\u001B[39;00m\n\u001B[32m    979\u001B[39m     \u001B[38;5;66;03m# This aliases json.JSONDecodeError and simplejson.JSONDecodeError\u001B[39;00m\n\u001B[32m--> \u001B[39m\u001B[32m980\u001B[39m     \u001B[38;5;28;01mraise\u001B[39;00m RequestsJSONDecodeError(e.msg, e.doc, e.pos)\n",
      "\u001B[31mJSONDecodeError\u001B[39m: Expecting value: line 1 column 1 (char 0)",
      "\nDuring handling of the above exception, another exception occurred:\n",
      "\u001B[31mDataLinkError\u001B[39m                             Traceback (most recent call last)",
      "\u001B[36mCell\u001B[39m\u001B[36m \u001B[39m\u001B[32mIn[4]\u001B[39m\u001B[32m, line 2\u001B[39m\n\u001B[32m      1\u001B[39m \u001B[38;5;66;03m# 中国：大连交易所铁矿石期货通过Quandl\u001B[39;00m\n\u001B[32m----> \u001B[39m\u001B[32m2\u001B[39m china_near = \u001B[43mndl\u001B[49m\u001B[43m.\u001B[49m\u001B[43mget\u001B[49m\u001B[43m(\u001B[49m\u001B[33;43m'\u001B[39;49m\u001B[33;43mDCE/I202509\u001B[39;49m\u001B[33;43m'\u001B[39;49m\u001B[43m)\u001B[49m  \u001B[38;5;66;03m# 示例：2025年9月合约；调整代码\u001B[39;00m\n\u001B[32m      3\u001B[39m china_far = ndl.get(\u001B[33m'\u001B[39m\u001B[33mDCE/I202512\u001B[39m\u001B[33m'\u001B[39m)   \u001B[38;5;66;03m# 12月\u001B[39;00m\n\u001B[32m      4\u001B[39m china_data = pd.concat([china_near[\u001B[33m'\u001B[39m\u001B[33mSettle\u001B[39m\u001B[33m'\u001B[39m], china_far[\u001B[33m'\u001B[39m\u001B[33mSettle\u001B[39m\u001B[33m'\u001B[39m]], axis=\u001B[32m1\u001B[39m)\n",
      "\u001B[36mFile \u001B[39m\u001B[32mD:\\anaconda3\\envs\\py311-tradingagents-cn\\Lib\\site-packages\\nasdaqdatalink\\get.py:48\u001B[39m, in \u001B[36mget\u001B[39m\u001B[34m(dataset, **kwargs)\u001B[39m\n\u001B[32m     46\u001B[39m     \u001B[38;5;28;01mif\u001B[39;00m dataset_args[\u001B[33m'\u001B[39m\u001B[33mcolumn_index\u001B[39m\u001B[33m'\u001B[39m] \u001B[38;5;129;01mis\u001B[39;00m \u001B[38;5;129;01mnot\u001B[39;00m \u001B[38;5;28;01mNone\u001B[39;00m:\n\u001B[32m     47\u001B[39m         kwargs.update({\u001B[33m'\u001B[39m\u001B[33mcolumn_index\u001B[39m\u001B[33m'\u001B[39m: dataset_args[\u001B[33m'\u001B[39m\u001B[33mcolumn_index\u001B[39m\u001B[33m'\u001B[39m]})\n\u001B[32m---> \u001B[39m\u001B[32m48\u001B[39m     data = \u001B[43mDataset\u001B[49m\u001B[43m(\u001B[49m\u001B[43mdataset_args\u001B[49m\u001B[43m[\u001B[49m\u001B[33;43m'\u001B[39;49m\u001B[33;43mcode\u001B[39;49m\u001B[33;43m'\u001B[39;49m\u001B[43m]\u001B[49m\u001B[43m)\u001B[49m\u001B[43m.\u001B[49m\u001B[43mdata\u001B[49m\u001B[43m(\u001B[49m\u001B[43mparams\u001B[49m\u001B[43m=\u001B[49m\u001B[43mkwargs\u001B[49m\u001B[43m,\u001B[49m\u001B[43m \u001B[49m\u001B[43mhandle_column_not_found\u001B[49m\u001B[43m=\u001B[49m\u001B[38;5;28;43;01mTrue\u001B[39;49;00m\u001B[43m)\u001B[49m\n\u001B[32m     49\u001B[39m \u001B[38;5;66;03m# Array\u001B[39;00m\n\u001B[32m     50\u001B[39m \u001B[38;5;28;01melif\u001B[39;00m \u001B[38;5;28misinstance\u001B[39m(dataset, \u001B[38;5;28mlist\u001B[39m):\n",
      "\u001B[36mFile \u001B[39m\u001B[32mD:\\anaconda3\\envs\\py311-tradingagents-cn\\Lib\\site-packages\\nasdaqdatalink\\model\\dataset.py:47\u001B[39m, in \u001B[36mDataset.data\u001B[39m\u001B[34m(self, **options)\u001B[39m\n\u001B[32m     45\u001B[39m updated_options = Util.merge_options(\u001B[33m'\u001B[39m\u001B[33mparams\u001B[39m\u001B[33m'\u001B[39m, params, **options)\n\u001B[32m     46\u001B[39m \u001B[38;5;28;01mtry\u001B[39;00m:\n\u001B[32m---> \u001B[39m\u001B[32m47\u001B[39m     \u001B[38;5;28;01mreturn\u001B[39;00m \u001B[43mData\u001B[49m\u001B[43m.\u001B[49m\u001B[43mall\u001B[49m\u001B[43m(\u001B[49m\u001B[43m*\u001B[49m\u001B[43m*\u001B[49m\u001B[43mupdated_options\u001B[49m\u001B[43m)\u001B[49m\n\u001B[32m     48\u001B[39m \u001B[38;5;28;01mexcept\u001B[39;00m NotFoundError:\n\u001B[32m     49\u001B[39m     \u001B[38;5;28;01mif\u001B[39;00m handle_not_found_error:\n",
      "\u001B[36mFile \u001B[39m\u001B[32mD:\\anaconda3\\envs\\py311-tradingagents-cn\\Lib\\site-packages\\nasdaqdatalink\\operations\\list.py:15\u001B[39m, in \u001B[36mListOperation.all\u001B[39m\u001B[34m(cls, **options)\u001B[39m\n\u001B[32m     13\u001B[39m     options[\u001B[33m'\u001B[39m\u001B[33mparams\u001B[39m\u001B[33m'\u001B[39m] = {}\n\u001B[32m     14\u001B[39m path = Util.constructed_path(\u001B[38;5;28mcls\u001B[39m.list_path(), options[\u001B[33m'\u001B[39m\u001B[33mparams\u001B[39m\u001B[33m'\u001B[39m])\n\u001B[32m---> \u001B[39m\u001B[32m15\u001B[39m r = \u001B[43mConnection\u001B[49m\u001B[43m.\u001B[49m\u001B[43mrequest\u001B[49m\u001B[43m(\u001B[49m\u001B[33;43m'\u001B[39;49m\u001B[33;43mget\u001B[39;49m\u001B[33;43m'\u001B[39;49m\u001B[43m,\u001B[49m\u001B[43m \u001B[49m\u001B[43mpath\u001B[49m\u001B[43m,\u001B[49m\u001B[43m \u001B[49m\u001B[43m*\u001B[49m\u001B[43m*\u001B[49m\u001B[43moptions\u001B[49m\u001B[43m)\u001B[49m\n\u001B[32m     16\u001B[39m response_data = r.json()\n\u001B[32m     17\u001B[39m Util.convert_to_dates(response_data)\n",
      "\u001B[36mFile \u001B[39m\u001B[32mD:\\anaconda3\\envs\\py311-tradingagents-cn\\Lib\\site-packages\\nasdaqdatalink\\connection.py:40\u001B[39m, in \u001B[36mConnection.request\u001B[39m\u001B[34m(cls, http_verb, url, **options)\u001B[39m\n\u001B[32m     36\u001B[39m options[\u001B[33m'\u001B[39m\u001B[33mheaders\u001B[39m\u001B[33m'\u001B[39m] = headers\n\u001B[32m     38\u001B[39m abs_url = \u001B[33m'\u001B[39m\u001B[38;5;132;01m%s\u001B[39;00m\u001B[33m/\u001B[39m\u001B[38;5;132;01m%s\u001B[39;00m\u001B[33m'\u001B[39m % (ApiConfig.api_base, url)\n\u001B[32m---> \u001B[39m\u001B[32m40\u001B[39m \u001B[38;5;28;01mreturn\u001B[39;00m \u001B[38;5;28;43mcls\u001B[39;49m\u001B[43m.\u001B[49m\u001B[43mexecute_request\u001B[49m\u001B[43m(\u001B[49m\u001B[43mhttp_verb\u001B[49m\u001B[43m,\u001B[49m\u001B[43m \u001B[49m\u001B[43mabs_url\u001B[49m\u001B[43m,\u001B[49m\u001B[43m \u001B[49m\u001B[43m*\u001B[49m\u001B[43m*\u001B[49m\u001B[43moptions\u001B[49m\u001B[43m)\u001B[49m\n",
      "\u001B[36mFile \u001B[39m\u001B[32mD:\\anaconda3\\envs\\py311-tradingagents-cn\\Lib\\site-packages\\nasdaqdatalink\\connection.py:52\u001B[39m, in \u001B[36mConnection.execute_request\u001B[39m\u001B[34m(cls, http_verb, url, **options)\u001B[39m\n\u001B[32m     47\u001B[39m response = session.request(method=http_verb,\n\u001B[32m     48\u001B[39m                            url=url,\n\u001B[32m     49\u001B[39m                            verify=ApiConfig.verify_ssl,\n\u001B[32m     50\u001B[39m                            **options)\n\u001B[32m     51\u001B[39m \u001B[38;5;28;01mif\u001B[39;00m response.status_code < \u001B[32m200\u001B[39m \u001B[38;5;129;01mor\u001B[39;00m response.status_code >= \u001B[32m300\u001B[39m:\n\u001B[32m---> \u001B[39m\u001B[32m52\u001B[39m     \u001B[38;5;28;43mcls\u001B[39;49m\u001B[43m.\u001B[49m\u001B[43mhandle_api_error\u001B[49m\u001B[43m(\u001B[49m\u001B[43mresponse\u001B[49m\u001B[43m)\u001B[49m\n\u001B[32m     53\u001B[39m \u001B[38;5;28;01melse\u001B[39;00m:\n\u001B[32m     54\u001B[39m     \u001B[38;5;28;01mreturn\u001B[39;00m response\n",
      "\u001B[36mFile \u001B[39m\u001B[32mD:\\anaconda3\\envs\\py311-tradingagents-cn\\Lib\\site-packages\\nasdaqdatalink\\connection.py:96\u001B[39m, in \u001B[36mConnection.handle_api_error\u001B[39m\u001B[34m(cls, resp)\u001B[39m\n\u001B[32m     94\u001B[39m \u001B[38;5;129m@classmethod\u001B[39m\n\u001B[32m     95\u001B[39m \u001B[38;5;28;01mdef\u001B[39;00m\u001B[38;5;250m \u001B[39m\u001B[34mhandle_api_error\u001B[39m(\u001B[38;5;28mcls\u001B[39m, resp):\n\u001B[32m---> \u001B[39m\u001B[32m96\u001B[39m     error_body = \u001B[38;5;28;43mcls\u001B[39;49m\u001B[43m.\u001B[49m\u001B[43mparse\u001B[49m\u001B[43m(\u001B[49m\u001B[43mresp\u001B[49m\u001B[43m)\u001B[49m\n\u001B[32m     98\u001B[39m     \u001B[38;5;66;03m# if our app does not form a proper data_link_error response\u001B[39;00m\n\u001B[32m     99\u001B[39m     \u001B[38;5;66;03m# throw generic error\u001B[39;00m\n\u001B[32m    100\u001B[39m     \u001B[38;5;28;01mif\u001B[39;00m \u001B[33m'\u001B[39m\u001B[33mquandl_error\u001B[39m\u001B[33m'\u001B[39m \u001B[38;5;129;01mnot\u001B[39;00m \u001B[38;5;129;01min\u001B[39;00m error_body:\n",
      "\u001B[36mFile \u001B[39m\u001B[32mD:\\anaconda3\\envs\\py311-tradingagents-cn\\Lib\\site-packages\\nasdaqdatalink\\connection.py:92\u001B[39m, in \u001B[36mConnection.parse\u001B[39m\u001B[34m(cls, response)\u001B[39m\n\u001B[32m     90\u001B[39m     \u001B[38;5;28;01mreturn\u001B[39;00m response.json()\n\u001B[32m     91\u001B[39m \u001B[38;5;28;01mexcept\u001B[39;00m \u001B[38;5;167;01mValueError\u001B[39;00m:\n\u001B[32m---> \u001B[39m\u001B[32m92\u001B[39m     \u001B[38;5;28;01mraise\u001B[39;00m DataLinkError(http_status=response.status_code, http_body=response.text)\n",
      "\u001B[31mDataLinkError\u001B[39m: (Status 403) Something went wrong. Please try again. If you continue to have problems, please contact us at connect@data.nasdaq.com."
     ]
    }
   ],
   "execution_count": 4
  },
  {
   "metadata": {
    "ExecuteTime": {
     "end_time": "2025-08-15T03:08:31.936843Z",
     "start_time": "2025-08-15T03:08:31.907993Z"
    }
   },
   "cell_type": "code",
   "source": "",
   "id": "92388694825d00b5",
   "outputs": [],
   "execution_count": 6
  },
  {
   "metadata": {},
   "cell_type": "code",
   "outputs": [],
   "execution_count": null,
   "source": "",
   "id": "8f90d6fa2e1fa189"
  }
 ],
 "metadata": {
  "kernelspec": {
   "display_name": "Python 3",
   "language": "python",
   "name": "python3"
  },
  "language_info": {
   "codemirror_mode": {
    "name": "ipython",
    "version": 2
   },
   "file_extension": ".py",
   "mimetype": "text/x-python",
   "name": "python",
   "nbconvert_exporter": "python",
   "pygments_lexer": "ipython2",
   "version": "2.7.6"
  }
 },
 "nbformat": 4,
 "nbformat_minor": 5
}
